{
 "cells": [
  {
   "cell_type": "code",
   "execution_count": 1,
   "metadata": {},
   "outputs": [],
   "source": [
    "import numpy as np"
   ]
  },
  {
   "cell_type": "markdown",
   "metadata": {},
   "source": [
    "# Relation Matrix Properties Counter\n",
    "\n",
    "The code below receives a relation matrix as an input and outputs a measurement of it's properties.\n",
    "$\\require{cancel}$"
   ]
  },
  {
   "cell_type": "markdown",
   "metadata": {},
   "source": [
    "## Relation Matrix"
   ]
  },
  {
   "cell_type": "markdown",
   "metadata": {},
   "source": [
    "A **relation matrix** is a square matrix such that $a_{ij} = 1$ if element $i$ is related to element $j$ in a set $A$ or $a_{ij} = 0$ if that is not the case.\n",
    "\n",
    "For example, matrix $R$ describes a certain [relation](https://en.wikipedia.org/wiki/Binary_relation) on the set $A = \\{1, 2, 3\\}$.\n",
    "\n",
    "$$ R =\n",
    "    \\begin{bmatrix}\n",
    "    1 & 0 & 0 \\\\\n",
    "    0 & 1 & 0 \\\\\n",
    "    0 & 0 & 1 \\\\\n",
    "    \\end{bmatrix}\n",
    "$$\n",
    "\n",
    "We can interpret that each element of set $A$, by $R$, relates only to itself. The relation could be, for example, $R = \\{(a, b)|a = b\\}$.\n",
    "\n",
    "There are several properties that are used to classify relations on a set. Let's introduce the most important of these."
   ]
  },
  {
   "cell_type": "markdown",
   "metadata": {},
   "source": [
    "### Reflexive and Irreflexive relations\n",
    "\n",
    "A **reflexive** relation is defined as $R$ such that $\\forall a: aRa$, i.e., every element of set $A$ relates to itself by $R$. An example of a reflexive relation could be described by the matrix $R$ shown above.\n",
    "<br>\n",
    "That relation can be described equivalently as $R = \\{(1, 1), (2, 2), (3, 3)\\}$.\n",
    "\n",
    "An **irreflexive** relation is the opposite. It's defined as $R$ such that $\\forall a: a\\cancel{R}a$. Matrix $R_{0}$ below is an example of an irreflexive relation.\n",
    "\n",
    "$$ R_{0} = \n",
    "    \\begin{bmatrix}\n",
    "    0 & 1 & 1\\\\\n",
    "    1 & 0 & 1\\\\\n",
    "    1 & 1 & 0\\\\\n",
    "    \\end{bmatrix}\n",
    "$$"
   ]
  },
  {
   "cell_type": "markdown",
   "metadata": {},
   "source": [
    "A simple algorithm for measuring the _reflexiveness_ of a matrix is:"
   ]
  },
  {
   "cell_type": "code",
   "execution_count": 11,
   "metadata": {},
   "outputs": [],
   "source": [
    "M = np.array([[1, 0, 1],\n",
    "              [0, 0, 1],\n",
    "              [1, 1, 1]])"
   ]
  },
  {
   "cell_type": "code",
   "execution_count": 13,
   "metadata": {},
   "outputs": [
    {
     "data": {
      "text/plain": [
       "0.6666666666666666"
      ]
     },
     "execution_count": 13,
     "metadata": {},
     "output_type": "execute_result"
    }
   ],
   "source": [
    "def reflexiveness(M):\n",
    "    refcount = 0\n",
    "    for i in range(len(M)):\n",
    "        if M[i, i] == 1:\n",
    "            refcount += 1\n",
    "    return refcount/len(M)\n",
    "\n",
    "reflexiveness(M)"
   ]
  },
  {
   "cell_type": "markdown",
   "metadata": {},
   "source": [
    "### Symmetrical and Asymmetrical relations\n",
    "\n",
    "A **symmetrical** relation is defined as $R$ such that $\\forall a, b: (aRb) \\to (bRa)$. In other words, if $a$ is related to $b$ by $R$, then $b$ must be related to $a$ by $R$.\n",
    "<br>\n",
    "Let $A=\\{1, 2, 3\\}$, the relation $R_{1} = \\{(1, 2), (2, 1), (3, 2), (2, 3)\\}$ is symmetrical and can be denoted as the matrix\n",
    "\n",
    "$$ R_{1} = \n",
    "    \\begin{bmatrix}\n",
    "    0 & 1 & 0 \\\\\n",
    "    1 & 0 & 1 \\\\\n",
    "    0 & 1 & 0 \\\\\n",
    "    \\end{bmatrix}\n",
    "$$\n",
    "\n",
    "An **asymmetrical** relation is defined as $R$ such that $\\forall a,b: (aRb) \\to (b\\cancel{R}a)$. That means, if $a$ is related to $b$ by $R$, then $b$ must **not** be related to $a$ by $R$.\n",
    "<br>\n",
    "Given the same set $A$, $R_{2} = \\{(a, b) | a = b + 1\\}$ is a perfectly asymmetrical relation and can be denoted as the matrix\n",
    "\n",
    "$$ R_{2} = \n",
    "    \\begin{bmatrix}\n",
    "    0 & 0 & 0 \\\\\n",
    "    1 & 0 & 0 \\\\\n",
    "    0 & 1 & 0 \\\\\n",
    "    \\end{bmatrix}\n",
    "$$"
   ]
  },
  {
   "cell_type": "markdown",
   "metadata": {},
   "source": [
    "Let's write a simple function that measures the _symmetry_ of a matrix."
   ]
  },
  {
   "cell_type": "code",
   "execution_count": 32,
   "metadata": {},
   "outputs": [],
   "source": [
    "R1 = np.array([[0, 1, 0],\n",
    "               [1, 0, 1],\n",
    "               [0, 1, 0]])\n",
    "R2 = np.array([[0, 0, 0],\n",
    "               [1, 0, 0],\n",
    "               [0, 1, 0]])"
   ]
  },
  {
   "cell_type": "code",
   "execution_count": 48,
   "metadata": {},
   "outputs": [],
   "source": [
    "def symmetry(M):\n",
    "    symcount = 0\n",
    "    for i in range(len(M)):\n",
    "        for j in range(len(M)):\n",
    "            if (M[j, i] == 1 and M[i, j] == 1) or (M[i, j] == 0):\n",
    "                symcount += 1\n",
    "    return symcount/len(M)**2"
   ]
  },
  {
   "cell_type": "code",
   "execution_count": 49,
   "metadata": {},
   "outputs": [
    {
     "data": {
      "text/plain": [
       "(1.0, 0.7777777777777778, 1.0)"
      ]
     },
     "execution_count": 49,
     "metadata": {},
     "output_type": "execute_result"
    }
   ],
   "source": [
    "symmetry(R1), symmetry(R2), symmetry(np.zeros((3, 3)))"
   ]
  },
  {
   "cell_type": "markdown",
   "metadata": {},
   "source": [
    "It's worth noting that, despite being an unintuitive fact, an **asymmetrical** matrix can be **symmetrical**, in terms of logic. We can, therefore, write a function to measure **asymmetry** as it's own property based on the condition defined above."
   ]
  },
  {
   "cell_type": "code",
   "execution_count": 50,
   "metadata": {},
   "outputs": [],
   "source": [
    "def asymmetry(M):\n",
    "    asymcount = 0\n",
    "    for i in range(len(M)):\n",
    "        for j in range(len(M)):\n",
    "            if (M[i, j] == 1 and M[j, i] == 0) or (M[i, j] == 0):\n",
    "                asymcount += 1\n",
    "    return asymcount/len(M)**2"
   ]
  },
  {
   "cell_type": "code",
   "execution_count": 54,
   "metadata": {},
   "outputs": [
    {
     "data": {
      "text/plain": [
       "(0.5555555555555556, 1.0, 1.0)"
      ]
     },
     "execution_count": 54,
     "metadata": {},
     "output_type": "execute_result"
    }
   ],
   "source": [
    "asymmetry(R1), asymmetry(R2), asymmetry(np.zeros((3, 3)))"
   ]
  },
  {
   "cell_type": "markdown",
   "metadata": {},
   "source": [
    "### Transitive Relations\n",
    "A relation $R$ on a set $A$ is called **transitive** if and only if $\\forall a, b, c: (aRb \\land bRc) \\to aRc$.\n",
    "<br>\n",
    "Using the same set $A=\\{1, 2, 3\\}$, $R_{3} = \\{(1, 1), (1, 3)\\}$ and $R_{4} = \\{(1, 2), (2, 3), (1, 3)\\}$ are examples of transitive relations.\n",
    "\n",
    "$$\n",
    "R_{3} = \\begin{bmatrix}\n",
    "    1 & 0 & 1 \\\\\n",
    "    0 & 0 & 0 \\\\\n",
    "    0 & 0 & 0 \\\\\n",
    "\\end{bmatrix}\n",
    "\\qquad\n",
    "R_{4} =\n",
    "\\begin{bmatrix}\n",
    "    0 & 1 & 1 \\\\\n",
    "    0 & 0 & 1 \\\\\n",
    "    0 & 0 & 0 \\\\\n",
    "\\end{bmatrix}\n",
    "$$"
   ]
  },
  {
   "cell_type": "markdown",
   "metadata": {},
   "source": [
    "A function to measure a matrix's _transitivity_ is as follows:"
   ]
  },
  {
   "cell_type": "code",
   "execution_count": 55,
   "metadata": {},
   "outputs": [],
   "source": [
    "R3 = np.array([[1, 0, 1],\n",
    "               [0, 0, 0],\n",
    "               [0, 0, 0]])\n",
    "R4 = np.array([[0, 1, 1],\n",
    "               [0, 0, 1],\n",
    "               [0, 0, 0]])"
   ]
  },
  {
   "cell_type": "code",
   "execution_count": 57,
   "metadata": {},
   "outputs": [],
   "source": [
    "def transitivity(M):\n",
    "    transcount = len(M)**2\n",
    "    for i in range(len(M)):\n",
    "        for j in range(len(M)):\n",
    "            if (M[i, j] == 1):\n",
    "                for k in range(len(M)):\n",
    "                    if (M[j, k] == 1) and (M[i, k] == 0):\n",
    "                        transcount -= 1\n",
    "    return transcount/len(M)**2"
   ]
  },
  {
   "cell_type": "code",
   "execution_count": 59,
   "metadata": {},
   "outputs": [
    {
     "data": {
      "text/plain": [
       "(0.3333333333333333, 0.8888888888888888, 1.0, 1.0)"
      ]
     },
     "execution_count": 59,
     "metadata": {},
     "output_type": "execute_result"
    }
   ],
   "source": [
    "transitivity(R1), transitivity(R2), transitivity(R3), transitivity(R4)"
   ]
  },
  {
   "cell_type": "markdown",
   "metadata": {},
   "source": [
    "## Building Relation Matrices from conditions"
   ]
  },
  {
   "cell_type": "markdown",
   "metadata": {},
   "source": [
    "It is possible to build a relation matrix given a certain universe of discourse and some conditions. For the sake of simplicity, let's try defining a few relations on the set $B = [0, 100]$"
   ]
  },
  {
   "cell_type": "markdown",
   "metadata": {},
   "source": [
    "Let $R_{5} = \\{(a, b) | a = b $ or $ a = -b\\}$, we can iteratively build a relation matrix that represents $R$."
   ]
  },
  {
   "cell_type": "code",
   "execution_count": 74,
   "metadata": {},
   "outputs": [],
   "source": [
    "B = np.zeros((100, 100))\n",
    "\n",
    "for i in range(100):\n",
    "    for j in range(100):\n",
    "        if (i == j or i == -j):\n",
    "            B[i, j] = 1"
   ]
  },
  {
   "cell_type": "markdown",
   "metadata": {},
   "source": [
    "And then use the functions we created to evaluate it's properties."
   ]
  },
  {
   "cell_type": "code",
   "execution_count": 76,
   "metadata": {},
   "outputs": [
    {
     "data": {
      "text/plain": [
       "(1.0, 1.0, 1.0)"
      ]
     },
     "execution_count": 76,
     "metadata": {},
     "output_type": "execute_result"
    }
   ],
   "source": [
    "reflexiveness(B), symmetry(B), transitivity(B)"
   ]
  },
  {
   "cell_type": "markdown",
   "metadata": {},
   "source": [
    "Let $R_{6} = \\{(a, b) | a + b \\leq 3 \\}$, we can do it the same way."
   ]
  },
  {
   "cell_type": "code",
   "execution_count": 77,
   "metadata": {},
   "outputs": [],
   "source": [
    "B = np.zeros((100, 100))\n",
    "\n",
    "for i in range(100):\n",
    "    for j in range(100):\n",
    "        if (i + j  <= 3):\n",
    "            B[i, j] = 1"
   ]
  },
  {
   "cell_type": "code",
   "execution_count": 78,
   "metadata": {},
   "outputs": [
    {
     "data": {
      "text/plain": [
       "(0.02, 1.0, 0.9993)"
      ]
     },
     "execution_count": 78,
     "metadata": {},
     "output_type": "execute_result"
    }
   ],
   "source": [
    "reflexiveness(B), symmetry(B), transitivity(B)"
   ]
  },
  {
   "cell_type": "markdown",
   "metadata": {},
   "source": [
    "# Conclusion\n",
    "The content of this notebook is a quick introduction to logical relations under the perspective of Relation Matrices. The practical implementations done are useful for verifying the properties of certain relations under a finite set.\n",
    "This work can definitely be expanded with further properties or measurements concerning logical relations."
   ]
  }
 ],
 "metadata": {
  "kernelspec": {
   "display_name": "env",
   "language": "python",
   "name": "env"
  },
  "language_info": {
   "codemirror_mode": {
    "name": "ipython",
    "version": 3
   },
   "file_extension": ".py",
   "mimetype": "text/x-python",
   "name": "python",
   "nbconvert_exporter": "python",
   "pygments_lexer": "ipython3",
   "version": "3.8.3"
  }
 },
 "nbformat": 4,
 "nbformat_minor": 4
}
